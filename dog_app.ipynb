{
 "cells": [
  {
   "cell_type": "code",
   "execution_count": null,
   "metadata": {
    "scrolled": true
   },
   "outputs": [],
   "source": [
    "from sklearn.datasets import load_files       \n",
    "from keras.utils import np_utils\n",
    "import numpy as np\n",
    "from glob import glob\n",
    "\n",
    "# define function to load train, test, and validation datasets\n",
    "def load_dataset(path):\n",
    "    data = load_files(path)\n",
    "    dog_files = np.array(data['filenames'])\n",
    "    dog_targets = np_utils.to_categorical(np.array(data['target']), 133)\n",
    "    return dog_files, dog_targets\n",
    "\n",
    "# load train, test, and validation datasets\n",
    "train_files, train_targets = load_dataset('./data/dogImages/train')\n",
    "valid_files, valid_targets = load_dataset('./data/dogImages/valid')\n",
    "test_files, test_targets = load_dataset('./data/dogImages/test')\n",
    "\n",
    "# load list of dog names\n",
    "dog_names = [item[20:-1] for item in sorted(glob(\"./data/dogImages/train/*/\"))]\n",
    "\n",
    "# print statistics about the dataset\n",
    "print('There are %d total dog categories.' % len(dog_names))\n",
    "print('There are %s total dog images.\\n' % len(np.hstack([train_files, valid_files, test_files])))\n",
    "print('There are %d training dog images.' % len(train_files))\n",
    "print('There are %d validation dog images.' % len(valid_files))\n",
    "print('There are %d test dog images.'% len(test_files))"
   ]
  },
  {
   "cell_type": "code",
   "execution_count": null,
   "metadata": {},
   "outputs": [],
   "source": [
    "# import os\n",
    "# os.environ[\"CUDA_DEVICE_ORDER\"] = \"PCI_BUS_ID\"   # see issue #152\n",
    "# os.environ[\"CUDA_VISIBLE_DEVICES\"] = \"\""
   ]
  },
  {
   "cell_type": "code",
   "execution_count": null,
   "metadata": {},
   "outputs": [],
   "source": [
    "from keras.preprocessing import image                  \n",
    "from tqdm import tqdm\n",
    "\n",
    "def path_to_tensor(img_path):\n",
    "    # loads RGB image as PIL.Image.Image type\n",
    "    img = image.load_img(img_path, target_size=(299, 299))\n",
    "    # convert PIL.Image.Image type to 3D tensor with shape (224, 224, 3)\n",
    "    x = image.img_to_array(img)\n",
    "    # convert 3D tensor to 4D tensor with shape (1, 224, 224, 3) and return 4D tensor\n",
    "    return np.expand_dims(x, axis=0)\n",
    "\n",
    "def paths_to_tensor(img_paths):\n",
    "    list_of_tensors = [path_to_tensor(img_path) for img_path in tqdm(img_paths)]\n",
    "    return np.vstack(list_of_tensors)"
   ]
  },
  {
   "cell_type": "code",
   "execution_count": null,
   "metadata": {},
   "outputs": [],
   "source": [
    "from PIL import ImageFile                            \n",
    "ImageFile.LOAD_TRUNCATED_IMAGES = True                 \n",
    "\n",
    "# pre-process the data for Keras\n",
    "train_tensors = paths_to_tensor(train_files).astype('float32')/255\n",
    "valid_tensors = paths_to_tensor(valid_files).astype('float32')/255\n",
    "test_tensors = paths_to_tensor(test_files).astype('float32')/255"
   ]
  },
  {
   "cell_type": "code",
   "execution_count": null,
   "metadata": {},
   "outputs": [],
   "source": [
    "from keras.applications.inception_resnet_v2 import InceptionResNetV2\n",
    "\n",
    "# from keras.applications.mobilenet import MobileNet\n",
    "\n",
    "# from keras.applications.resnet50 import ResNet50"
   ]
  },
  {
   "cell_type": "code",
   "execution_count": null,
   "metadata": {},
   "outputs": [],
   "source": [
    "model = InceptionResNetV2(weights='imagenet', include_top=False, pooling=None)\n",
    "\n",
    "# model = ResNet50(weights='imagenet', include_top=False, pooling=None)\n",
    "\n",
    "# model = MobileNet(weights='imagenet', include_top=False, pooling=None, alpha=1.)"
   ]
  },
  {
   "cell_type": "code",
   "execution_count": null,
   "metadata": {},
   "outputs": [],
   "source": [
    "train_InceptionResNetV2 = model.predict(train_tensors, batch_size=32, verbose=1)\n",
    "valid_InceptionResNetV2 = model.predict(valid_tensors, batch_size=32, verbose=1)\n",
    "test_InceptionResNetV2 = model.predict(test_tensors, batch_size=32, verbose=1)"
   ]
  },
  {
   "cell_type": "code",
   "execution_count": null,
   "metadata": {},
   "outputs": [],
   "source": [
    "from keras.layers import GlobalAveragePooling2D, Dense, Dropout\n",
    "from keras.models import Sequential\n",
    "\n",
    "InceptionResNetV2_model = Sequential()\n",
    "InceptionResNetV2_model.add(GlobalAveragePooling2D(input_shape=train_InceptionResNetV2.shape[1:]))\n",
    "InceptionResNetV2_model.add(Dense(133, activation='softmax'))\n",
    "\n",
    "InceptionResNetV2_model.summary()\n",
    "### Define the model"
   ]
  },
  {
   "cell_type": "markdown",
   "metadata": {},
   "source": [
    "### Compile the Model"
   ]
  },
  {
   "cell_type": "code",
   "execution_count": null,
   "metadata": {},
   "outputs": [],
   "source": [
    "InceptionResNetV2_model.compile(loss='categorical_crossentropy', optimizer='adam', metrics=['accuracy'])\n",
    "### Compile the model"
   ]
  },
  {
   "cell_type": "markdown",
   "metadata": {},
   "source": [
    "### Train the Model"
   ]
  },
  {
   "cell_type": "code",
   "execution_count": null,
   "metadata": {
    "scrolled": false
   },
   "outputs": [],
   "source": [
    "# from keras.callbacks import ModelCheckpoint  \n",
    "\n",
    "# checkpointer = ModelCheckpoint(filepath='saved_models/weights.best.InceptionResNetV2_model.hdf5', \n",
    "#                                verbose=1, save_best_only=True)\n",
    "\n",
    "# InceptionResNetV2_model.fit(train_InceptionResNetV2, train_targets, \n",
    "#           validation_data=(valid_InceptionResNetV2, valid_targets),\n",
    "#           epochs=20, batch_size=32, callbacks=[checkpointer], verbose=1)\n",
    "# ### Train the model."
   ]
  },
  {
   "cell_type": "markdown",
   "metadata": {},
   "source": [
    "### Load the Model with the Best Validation Loss"
   ]
  },
  {
   "cell_type": "code",
   "execution_count": null,
   "metadata": {},
   "outputs": [],
   "source": [
    "InceptionResNetV2_model.load_weights('saved_models/weights.best.InceptionResNetV2_model.hdf5')\n",
    "### Load the model weights with the best validation loss.VGG16_model.load_weights('saved_models/weights.best.VGG16.hdf5')"
   ]
  },
  {
   "cell_type": "markdown",
   "metadata": {},
   "source": [
    "### Test the Model\n",
    "\n",
    "Try out your model on the test dataset of dog images. Ensure that your test accuracy is greater than 60%."
   ]
  },
  {
   "cell_type": "code",
   "execution_count": null,
   "metadata": {},
   "outputs": [],
   "source": [
    "# get index of predicted dog breed for each image in test set\n",
    "InceptionResNetV2_predictions = [np.argmax(InceptionResNetV2_model.predict(np.expand_dims(feature, axis=0))) for feature in test_InceptionResNetV2]\n",
    "\n",
    "# report test accuracy\n",
    "test_accuracy = 100*np.sum(np.array(InceptionResNetV2_predictions)==np.argmax(test_targets, axis=1))/len(InceptionResNetV2_predictions)\n",
    "print('Test accuracy: %.4f%%' % test_accuracy)\n",
    "### Calculate classification accuracy on the test dataset."
   ]
  },
  {
   "cell_type": "code",
   "execution_count": null,
   "metadata": {},
   "outputs": [],
   "source": [
    "InceptionResNetV2_model.layers"
   ]
  },
  {
   "cell_type": "code",
   "execution_count": null,
   "metadata": {},
   "outputs": [],
   "source": [
    "from keras.models import Model, Input\n",
    "\n",
    "inp_ten = Input(shape=(299, 299, 3))\n",
    "x = InceptionResNetV2(weights='imagenet', include_top=False, pooling=None)(inp_ten)\n",
    "x = InceptionResNetV2_model.layers[0](x)\n",
    "out = InceptionResNetV2_model.layers[1](x)\n",
    "\n",
    "model_m = Model(inp_ten, out)"
   ]
  },
  {
   "cell_type": "code",
   "execution_count": null,
   "metadata": {},
   "outputs": [],
   "source": [
    "model_m.summary()"
   ]
  },
  {
   "cell_type": "code",
   "execution_count": null,
   "metadata": {},
   "outputs": [],
   "source": [
    "# get index of predicted dog breed for each image in test set\n",
    "InceptionResNetV2_predictions = [np.argmax(model.predict(np.expand_dims(feature, axis=0))) for feature in test_tensors]\n",
    "\n",
    "# report test accuracy\n",
    "test_accuracy = 100*np.sum(np.array(InceptionResNetV2_predictions)==np.argmax(test_targets, axis=1))/len(InceptionResNetV2_predictions)\n",
    "print('Test accuracy: %.4f%%' % test_accuracy)\n",
    "### Calculate classification accuracy on the test dataset."
   ]
  },
  {
   "cell_type": "code",
   "execution_count": null,
   "metadata": {},
   "outputs": [],
   "source": [
    "model_m.save_weights('../input/dog_identification_model.hdf5')"
   ]
  },
  {
   "cell_type": "code",
   "execution_count": null,
   "metadata": {},
   "outputs": [],
   "source": [
    "from keras.models import Model, Input\n",
    "\n",
    "inp_ten = Input(shape=(299, 299, 3))\n",
    "x = InceptionResNetV2(weights='imagenet', include_top=False, pooling=None)(inp_ten)\n",
    "x = GlobalAveragePooling2D()(x)\n",
    "out = Dense(133, activation='softmax')(x)\n",
    "\n",
    "model = Model(inp_ten, out)\n",
    "\n",
    "model.compile(loss='categorical_crossentropy', optimizer='adam', metrics=['accuracy'])\n",
    "\n",
    "model.summary()\n",
    "\n",
    "model.load_weights('../input/dog_identification_model.hdf5')"
   ]
  },
  {
   "cell_type": "code",
   "execution_count": null,
   "metadata": {},
   "outputs": [],
   "source": [
    "model.load_weights('../input/dog_identification_model.hdf5')"
   ]
  },
  {
   "cell_type": "code",
   "execution_count": null,
   "metadata": {},
   "outputs": [],
   "source": []
  },
  {
   "cell_type": "code",
   "execution_count": null,
   "metadata": {},
   "outputs": [],
   "source": [
    "import pandas as pd\n",
    "\n",
    "\n",
    "labels = pd.read_csv('../input/petfinder-adoption-prediction/breed_labels.csv')\n",
    "train = pd.read_csv('../input/petfinder-adoption-prediction/train/train.csv')\n",
    "test = pd.read_csv('../input/petfinder-adoption-prediction/test/test.csv')"
   ]
  },
  {
   "cell_type": "code",
   "execution_count": null,
   "metadata": {},
   "outputs": [],
   "source": [
    "def a(x):\n",
    "    b1 = x['Breed1']\n",
    "    \n",
    "    if b1 == 307:\n",
    "        b2 = x['Breed2']\n",
    "        if b2 % 307 != 0:\n",
    "            return b2\n",
    "    \n",
    "    return b1\n",
    "\n",
    "train['Breed1'] = train.apply(a, axis=1)\n",
    "test['Breed1'] = test.apply(a, axis=1)"
   ]
  },
  {
   "cell_type": "code",
   "execution_count": null,
   "metadata": {
    "scrolled": true
   },
   "outputs": [],
   "source": [
    "mixed_types_train = train[(train.Type==1) & (train.Breed1 == 307)][['PetID', 'Breed1', 'Breed2']]\n",
    "mixed_types_test = test[(test.Type==1) & (test.Breed1 == 307)][['PetID', 'Breed1', 'Breed2']]"
   ]
  },
  {
   "cell_type": "code",
   "execution_count": null,
   "metadata": {},
   "outputs": [],
   "source": [
    "import cv2\n",
    "\n",
    "import matplotlib.pyplot as plt\n",
    "\n",
    "%matplotlib inline"
   ]
  },
  {
   "cell_type": "code",
   "execution_count": null,
   "metadata": {},
   "outputs": [],
   "source": [
    "breed_dict = {i:j for i, j in zip(labels[labels.Type == 1].BreedName.apply(lambda x: x.lower().replace(' ', '_')).values, labels[labels.Type == 1].BreedID.values)}"
   ]
  },
  {
   "cell_type": "code",
   "execution_count": null,
   "metadata": {
    "scrolled": false
   },
   "outputs": [],
   "source": [
    "mapping = {\n",
    "    'american_foxhound': 'foxhound',\n",
    "    'anatolian_shepherd_dog': 'anatolian_shepherd',\n",
    "    'australian_cattle_dog': 'australian_cattle_dog/blue_heeler',\n",
    "    'belgian_malinois': 'belgian_shepherd_malinois',\n",
    "    'belgian_sheepdog': 'belgian_shepherd_dog_sheepdog',\n",
    "    'belgian_tervuren': 'belgian_shepherd_tervuren',\n",
    "    'bouvier_des_flandres': 'bouvier_des_flanders',\n",
    "    'brittany': 'brittany_spaniel',\n",
    "    'bulldog': 'american_bulldog',\n",
    "    'cane_corso': 'cane_corso_mastiff',\n",
    "    'cardigan_welsh_corgi': 'welsh_corgi',\n",
    "    'chinese_crested': 'chinese_crested_dog',\n",
    "    'chinese_shar-pei': 'shar_pei',\n",
    "    'dandie_dinmont_terrier': 'dandi_dinmont_terrier',\n",
    "    'entlebucher_mountain_dog': 'entlebucher',\n",
    "    'icelandic_sheepdog': 'shetland_sheepdog_sheltie',\n",
    "    'irish_red_and_white_setter': 'irish_setter',\n",
    "    'miniature_schnauzer': 'schnauzer',\n",
    "    'newfoundland': 'newfoundland_dog',\n",
    "    'nova_scotia_duck_tolling_retriever': 'nova_scotia_duck-tolling_retriever',\n",
    "    'parson_russell_terrier': 'jack_russell_terrier',\n",
    "    'pembroke_welsh_corgi': 'welsh_corgi',\n",
    "    'plott': 'plott_hound',\n",
    "    'wirehaired_pointing_griffon': 'german_wirehaired_pointer',\n",
    "    'xoloitzcuintli': 'xoloitzcuintle/mexican_hairless',\n",
    "    'yorkshire_terrier': 'yorkshire_terrier_yorkie'\n",
    "}\n",
    "\n",
    "### A function that takes a path to an image as input\n",
    "### and returns the dog breed that is predicted by the model.\n",
    "img_path = '../input/petfinder-adoption-prediction/train_images/ef14861df-1.jpg'\n",
    "#img_path = dog_files_short[2]\n",
    "def classify_dog_breed(img_path):\n",
    "    img = path_to_tensor(img_path).astype('float32')/255\n",
    "    predictions = model.predict(img)\n",
    "    prediction = np.argmax(predictions)\n",
    "    new_dog_names = dog_names[prediction].split('.')[-1]\n",
    "    dog_name = new_dog_names.lower()\n",
    "    dog_name = dog_name if dog_name not in mapping else mapping[dog_name]\n",
    "    return [predictions.max(), dog_name, breed_dict[dog_name]]\n",
    "img = cv2.imread(img_path)\n",
    "plt.imshow(cv2.cvtColor(img,cv2.COLOR_BGR2RGB))\n",
    "prediction = classify_dog_breed(img_path)\n",
    "prediction"
   ]
  },
  {
   "cell_type": "code",
   "execution_count": null,
   "metadata": {},
   "outputs": [],
   "source": [
    "dog_names"
   ]
  },
  {
   "cell_type": "code",
   "execution_count": null,
   "metadata": {},
   "outputs": [],
   "source": [
    "import os\n",
    "\n",
    "def get_type(x):\n",
    "    img_path = f'../input/petfinder-adoption-prediction/train_images/{x}-1.jpg'\n",
    "    if os.path.exists(img_path):\n",
    "        return classify_dog_breed(img_path)\n",
    "    return [307, '', 0]\n",
    "\n",
    "def get_type_test(x):\n",
    "    img_path = f'../input/petfinder-adoption-prediction/test_images/{x}-1.jpg'\n",
    "    if os.path.exists(img_path):\n",
    "        return classify_dog_breed(img_path)\n",
    "    return [307, '', 0]\n",
    "\n",
    "mixed_types_train['prob'] = 0\n",
    "mixed_types_train['name'] = 0\n",
    "mixed_types_train['idd'] = 0\n",
    "\n",
    "mixed_types_test['prob'] = 0\n",
    "mixed_types_test['name'] = 0\n",
    "mixed_types_test['idd'] = 0"
   ]
  },
  {
   "cell_type": "code",
   "execution_count": null,
   "metadata": {},
   "outputs": [],
   "source": [
    "mix_train = mixed_types_train.PetID.apply(get_type).values\n",
    "mix_test = mixed_types_test.PetID.apply(get_type_test).values"
   ]
  },
  {
   "cell_type": "code",
   "execution_count": null,
   "metadata": {},
   "outputs": [],
   "source": [
    "mixed_types_train.loc[:, ['prob', 'name', 'idd']] = list(mix_train)\n",
    "mixed_types_test.loc[:, ['prob', 'name', 'idd']] = list(mix_test)"
   ]
  },
  {
   "cell_type": "code",
   "execution_count": null,
   "metadata": {},
   "outputs": [],
   "source": [
    "mixed_types_train.to_csv('../input/mixed_breed_train.csv', index=0)\n",
    "mixed_types_test.to_csv('../input/mixed_breed_test.csv', index=0)"
   ]
  },
  {
   "cell_type": "code",
   "execution_count": null,
   "metadata": {},
   "outputs": [],
   "source": []
  }
 ],
 "metadata": {
  "anaconda-cloud": {},
  "kernelspec": {
   "display_name": "Python 3.6 (TensorFlow GPU)",
   "language": "python",
   "name": "tensorflow_gpuenv"
  },
  "language_info": {
   "codemirror_mode": {
    "name": "ipython",
    "version": 3
   },
   "file_extension": ".py",
   "mimetype": "text/x-python",
   "name": "python",
   "nbconvert_exporter": "python",
   "pygments_lexer": "ipython3",
   "version": "3.6.8"
  }
 },
 "nbformat": 4,
 "nbformat_minor": 1
}
